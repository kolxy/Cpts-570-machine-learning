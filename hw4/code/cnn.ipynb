{
 "cells": [
  {
   "cell_type": "code",
   "execution_count": 11,
   "metadata": {},
   "outputs": [
    {
     "data": {
      "text/plain": [
       "<matplotlib.image.AxesImage at 0x170ce2b50>"
      ]
     },
     "execution_count": 11,
     "metadata": {},
     "output_type": "execute_result"
    },
    {
     "data": {
      "image/png": "[encoded data removed]",
      "text/plain": [
       "<Figure size 432x288 with 1 Axes>"
      ]
     },
     "metadata": {
      "needs_background": "light"
     },
     "output_type": "display_data"
    }
   ],
   "source": [
    "import util\n",
    "import tensorflow as tf\n",
    "import matplotlib.pyplot as plt\n",
    "\n",
    "x_train, y_train = util.load_mnist()\n",
    "x_test, y_test = util.load_mnist(kind = \"t10k\")\n",
    "\n",
    "x_train = x_train.reshape(-1, 28, 28, 1)\n",
    "x_test = x_test.reshape(-1, 28, 28, 1) \n",
    "\n",
    "plt.imshow(x_train[0])\n"
   ]
  },
  {
   "cell_type": "code",
   "execution_count": 12,
   "metadata": {},
   "outputs": [
    {
     "name": "stdout",
     "output_type": "stream",
     "text": [
      "Model: \"sequential_3\"\n",
      "_________________________________________________________________\n",
      "Layer (type)                 Output Shape              Param #   \n",
      "=================================================================\n",
      "conv2d_12 (Conv2D)           (None, 14, 14, 8)         208       \n",
      "_________________________________________________________________\n",
      "conv2d_13 (Conv2D)           (None, 7, 7, 16)          1168      \n",
      "_________________________________________________________________\n",
      "conv2d_14 (Conv2D)           (None, 4, 4, 32)          4640      \n",
      "_________________________________________________________________\n",
      "conv2d_15 (Conv2D)           (None, 2, 2, 32)          9248      \n",
      "_________________________________________________________________\n",
      "average_pooling2d_3 (Average (None, 2, 2, 32)          0         \n",
      "_________________________________________________________________\n",
      "flatten_3 (Flatten)          (None, 128)               0         \n",
      "_________________________________________________________________\n",
      "dense_3 (Dense)              (None, 10)                1290      \n",
      "_________________________________________________________________\n",
      "softmax_3 (Softmax)          (None, 10)                0         \n",
      "=================================================================\n",
      "Total params: 16,554\n",
      "Trainable params: 16,554\n",
      "Non-trainable params: 0\n",
      "_________________________________________________________________\n"
     ]
    }
   ],
   "source": [
    "from tensorflow.keras import layers\n",
    "model = tf.keras.Sequential([\n",
    "    layers.Conv2D(filters=8, kernel_size=5, padding=\"same\", strides=2, activation=\"relu\", input_shape=(28, 28, 1)),\n",
    "    layers.Conv2D(filters=16, kernel_size=3, padding=\"same\", strides=2, activation=\"relu\", input_shape=(28, 28, 1)),\n",
    "    layers.Conv2D(filters=32, kernel_size=3, padding=\"same\", strides=2, activation=\"relu\", input_shape=(28, 28, 1)), \n",
    "    layers.Conv2D(filters=32, kernel_size=3, padding=\"same\", strides=2, activation=\"relu\", input_shape=(28, 28, 1)),\n",
    "    layers.AveragePooling2D(1),\n",
    "    layers.Flatten(),\n",
    "    layers.Dense(10, activation=\"relu\"),\n",
    "    layers.Softmax()\n",
    "])\n",
    "\n",
    "model.summary()"
   ]
  },
  {
   "cell_type": "code",
   "execution_count": 13,
   "metadata": {},
   "outputs": [
    {
     "name": "stdout",
     "output_type": "stream",
     "text": [
      "Epoch 1/10\n",
      "1875/1875 [==============================] - 14s 7ms/step - loss: 1.0126 - accuracy: 0.6374 - val_loss: 0.4537 - val_accuracy: 0.8393\n",
      "Epoch 2/10\n",
      "1875/1875 [==============================] - 14s 8ms/step - loss: 0.3826 - accuracy: 0.8629 - val_loss: 0.3898 - val_accuracy: 0.8545\n",
      "Epoch 3/10\n",
      "1875/1875 [==============================] - 15s 8ms/step - loss: 0.3362 - accuracy: 0.8782 - val_loss: 0.3722 - val_accuracy: 0.8694\n",
      "Epoch 4/10\n",
      "1875/1875 [==============================] - 15s 8ms/step - loss: 0.3114 - accuracy: 0.8857 - val_loss: 0.3516 - val_accuracy: 0.8702\n",
      "Epoch 5/10\n",
      "1875/1875 [==============================] - 16s 9ms/step - loss: 0.2938 - accuracy: 0.8911 - val_loss: 0.3520 - val_accuracy: 0.8751\n",
      "Epoch 6/10\n",
      "1875/1875 [==============================] - 16s 9ms/step - loss: 0.2792 - accuracy: 0.8957 - val_loss: 0.3486 - val_accuracy: 0.8766\n",
      "Epoch 7/10\n",
      "1875/1875 [==============================] - 17s 9ms/step - loss: 0.2690 - accuracy: 0.9005 - val_loss: 0.3676 - val_accuracy: 0.8739\n",
      "Epoch 8/10\n",
      "1875/1875 [==============================] - 17s 9ms/step - loss: 0.2568 - accuracy: 0.9041 - val_loss: 0.3353 - val_accuracy: 0.8816\n",
      "Epoch 9/10\n",
      "1875/1875 [==============================] - 18s 9ms/step - loss: 0.2503 - accuracy: 0.9076 - val_loss: 0.3530 - val_accuracy: 0.8780\n",
      "Epoch 10/10\n",
      "1875/1875 [==============================] - 17s 9ms/step - loss: 0.2428 - accuracy: 0.9087 - val_loss: 0.3567 - val_accuracy: 0.8787\n"
     ]
    }
   ],
   "source": [
    "model.compile(optimizer='adam',\n",
    "              loss=tf.keras.losses.SparseCategoricalCrossentropy(),\n",
    "              metrics=['accuracy'])\n",
    "\n",
    "history = model.fit(x_train, y_train, epochs=10, \n",
    "                    validation_data=(x_test, y_test))"
   ]
  },
  {
   "cell_type": "code",
   "execution_count": 14,
   "metadata": {},
   "outputs": [
    {
     "data": {
      "image/png": "[encoded data removed]",
      "text/plain": [
       "<Figure size 432x288 with 1 Axes>"
      ]
     },
     "metadata": {
      "needs_background": "light"
     },
     "output_type": "display_data"
    }
   ],
   "source": [
    "plt.figure()\n",
    "plt.plot(history.history['accuracy'], \"-d\", label=\"training accuracy\")\n",
    "plt.plot(history.history['val_accuracy'], \"-d\", label=\"testing accuracy\")\n",
    "plt.xlabel(\"Epoch\")\n",
    "plt.ylabel(\"Accuracy\")\n",
    "plt.ylim([0.5, 1])\n",
    "plt.title(\"Accuracy over epoch\")\n",
    "plt.legend(loc='lower right')\n",
    "plt.show()\n",
    "plt.close()"
   ]
  }
 ],
 "metadata": {
  "interpreter": {
   "hash": "31f2aee4e71d21fbe5cf8b01ff0e069b9275f58929596ceb00d14d90e3e16cd6"
  },
  "kernelspec": {
   "display_name": "Python 3.8.9 64-bit",
   "language": "python",
   "name": "python3"
  },
  "language_info": {
   "codemirror_mode": {
    "name": "ipython",
    "version": 3
   },
   "file_extension": ".py",
   "mimetype": "text/x-python",
   "name": "python",
   "nbconvert_exporter": "python",
   "pygments_lexer": "ipython3",
   "version": "3.8.9"
  },
  "orig_nbformat": 4
 },
 "nbformat": 4,
 "nbformat_minor": 2
}
